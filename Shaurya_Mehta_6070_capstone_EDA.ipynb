{
 "cells": [
  {
   "cell_type": "code",
   "execution_count": 148,
   "metadata": {},
   "outputs": [],
   "source": [
    "# Importing the libraries\n",
    "import pandas as pd\n",
    "import seaborn as sns\n",
    "import csv \n",
    "import statistics\n",
    "from numpy import *\n",
    "import numpy as np\n",
    "import matplotlib.pyplot as plt"
   ]
  },
  {
   "cell_type": "code",
   "execution_count": 149,
   "metadata": {},
   "outputs": [],
   "source": [
    "# Importing the data from csv file\n",
    "dataset22 = pd.read_csv('D24_MAB_FY19P1to7.csv')"
   ]
  },
  {
   "cell_type": "code",
   "execution_count": 152,
   "metadata": {},
   "outputs": [
    {
     "data": {
      "text/html": [
       "<div>\n",
       "<style scoped>\n",
       "    .dataframe tbody tr th:only-of-type {\n",
       "        vertical-align: middle;\n",
       "    }\n",
       "\n",
       "    .dataframe tbody tr th {\n",
       "        vertical-align: top;\n",
       "    }\n",
       "\n",
       "    .dataframe thead th {\n",
       "        text-align: right;\n",
       "    }\n",
       "</style>\n",
       "<table border=\"1\" class=\"dataframe\">\n",
       "  <thead>\n",
       "    <tr style=\"text-align: right;\">\n",
       "      <th></th>\n",
       "      <th>MBWHSE</th>\n",
       "      <th>MBREG_NUM</th>\n",
       "      <th>MBTRN_NUM</th>\n",
       "      <th>FISCAL_PERIOD</th>\n",
       "      <th>MBDATE</th>\n",
       "      <th>MBTIME</th>\n",
       "      <th>MBITEM</th>\n",
       "      <th>MBDSUN</th>\n",
       "      <th>MBDSEL</th>\n",
       "      <th>MBRESL</th>\n",
       "      <th>MBRFND</th>\n",
       "      <th>IMCAT1</th>\n",
       "      <th>IMCAT2</th>\n",
       "      <th>IMCAT3</th>\n",
       "      <th>IMDES1</th>\n",
       "      <th>IMDES2</th>\n",
       "      <th>REGION</th>\n",
       "      <th>LCDIST</th>\n",
       "      <th>LCNAME</th>\n",
       "      <th>LCCITY</th>\n",
       "      <th>LCSTA</th>\n",
       "      <th>MSPIPK</th>\n",
       "      <th>ACCTYP</th>\n",
       "      <th>EXECFLG</th>\n",
       "    </tr>\n",
       "  </thead>\n",
       "  <tbody>\n",
       "    <tr>\n",
       "      <th>0</th>\n",
       "      <td>423.0</td>\n",
       "      <td>12.0</td>\n",
       "      <td>398.0</td>\n",
       "      <td>2.0</td>\n",
       "      <td>10/26/18 0:00</td>\n",
       "      <td>1721.0</td>\n",
       "      <td>1234449.0</td>\n",
       "      <td>1.0</td>\n",
       "      <td>549.99</td>\n",
       "      <td>NaN</td>\n",
       "      <td>NaN</td>\n",
       "      <td>M</td>\n",
       "      <td>A</td>\n",
       "      <td>B</td>\n",
       "      <td>HP 15-CS0053CL 15.6\" LT</td>\n",
       "      <td>I5-8250U/12GB/1TB</td>\n",
       "      <td>BA</td>\n",
       "      <td>D3</td>\n",
       "      <td>Sunnyvale</td>\n",
       "      <td>SUNNYVALE</td>\n",
       "      <td>CA</td>\n",
       "      <td>539928</td>\n",
       "      <td>1.0</td>\n",
       "      <td>E</td>\n",
       "    </tr>\n",
       "    <tr>\n",
       "      <th>1</th>\n",
       "      <td>1001.0</td>\n",
       "      <td>5.0</td>\n",
       "      <td>257.0</td>\n",
       "      <td>2.0</td>\n",
       "      <td>10/26/18 0:00</td>\n",
       "      <td>1352.0</td>\n",
       "      <td>1234449.0</td>\n",
       "      <td>1.0</td>\n",
       "      <td>549.99</td>\n",
       "      <td>NaN</td>\n",
       "      <td>NaN</td>\n",
       "      <td>M</td>\n",
       "      <td>A</td>\n",
       "      <td>B</td>\n",
       "      <td>HP 15-CS0053CL 15.6\" LT</td>\n",
       "      <td>I5-8250U/12GB/1TB</td>\n",
       "      <td>LA</td>\n",
       "      <td>D3</td>\n",
       "      <td>Tustin</td>\n",
       "      <td>TUSTIN</td>\n",
       "      <td>CA</td>\n",
       "      <td>437256</td>\n",
       "      <td>2.0</td>\n",
       "      <td>E</td>\n",
       "    </tr>\n",
       "    <tr>\n",
       "      <th>2</th>\n",
       "      <td>770.0</td>\n",
       "      <td>2.0</td>\n",
       "      <td>108.0</td>\n",
       "      <td>2.0</td>\n",
       "      <td>10/26/18 0:00</td>\n",
       "      <td>1226.0</td>\n",
       "      <td>1235362.0</td>\n",
       "      <td>1.0</td>\n",
       "      <td>469.99</td>\n",
       "      <td>NaN</td>\n",
       "      <td>NaN</td>\n",
       "      <td>M</td>\n",
       "      <td>A</td>\n",
       "      <td>B</td>\n",
       "      <td>DELL I5570 15.6\" LT</td>\n",
       "      <td>I3-8130U/12GB/1TB</td>\n",
       "      <td>NW</td>\n",
       "      <td>D1</td>\n",
       "      <td>South Ogden</td>\n",
       "      <td>OGDEN</td>\n",
       "      <td>UT</td>\n",
       "      <td>6142209</td>\n",
       "      <td>1.0</td>\n",
       "      <td>E</td>\n",
       "    </tr>\n",
       "    <tr>\n",
       "      <th>3</th>\n",
       "      <td>770.0</td>\n",
       "      <td>2.0</td>\n",
       "      <td>209.0</td>\n",
       "      <td>2.0</td>\n",
       "      <td>10/26/18 0:00</td>\n",
       "      <td>1442.0</td>\n",
       "      <td>1238985.0</td>\n",
       "      <td>1.0</td>\n",
       "      <td>899.99</td>\n",
       "      <td>NaN</td>\n",
       "      <td>NaN</td>\n",
       "      <td>M</td>\n",
       "      <td>A</td>\n",
       "      <td>B</td>\n",
       "      <td>HP 15-CS0073CL 15.6\" LT</td>\n",
       "      <td>I7-8550U/16GB/1TB</td>\n",
       "      <td>NW</td>\n",
       "      <td>D1</td>\n",
       "      <td>South Ogden</td>\n",
       "      <td>OGDEN</td>\n",
       "      <td>UT</td>\n",
       "      <td>6139758</td>\n",
       "      <td>1.0</td>\n",
       "      <td>NaN</td>\n",
       "    </tr>\n",
       "    <tr>\n",
       "      <th>4</th>\n",
       "      <td>770.0</td>\n",
       "      <td>51.0</td>\n",
       "      <td>52.0</td>\n",
       "      <td>2.0</td>\n",
       "      <td>10/26/18 0:00</td>\n",
       "      <td>1458.0</td>\n",
       "      <td>1238985.0</td>\n",
       "      <td>-1.0</td>\n",
       "      <td>-899.99</td>\n",
       "      <td>NaN</td>\n",
       "      <td>NaN</td>\n",
       "      <td>M</td>\n",
       "      <td>A</td>\n",
       "      <td>B</td>\n",
       "      <td>HP 15-CS0073CL 15.6\" LT</td>\n",
       "      <td>I7-8550U/16GB/1TB</td>\n",
       "      <td>NW</td>\n",
       "      <td>D1</td>\n",
       "      <td>South Ogden</td>\n",
       "      <td>OGDEN</td>\n",
       "      <td>UT</td>\n",
       "      <td>6139758</td>\n",
       "      <td>1.0</td>\n",
       "      <td>NaN</td>\n",
       "    </tr>\n",
       "  </tbody>\n",
       "</table>\n",
       "</div>"
      ],
      "text/plain": [
       "   MBWHSE  MBREG_NUM  MBTRN_NUM  FISCAL_PERIOD         MBDATE  MBTIME  \\\n",
       "0   423.0       12.0      398.0            2.0  10/26/18 0:00  1721.0   \n",
       "1  1001.0        5.0      257.0            2.0  10/26/18 0:00  1352.0   \n",
       "2   770.0        2.0      108.0            2.0  10/26/18 0:00  1226.0   \n",
       "3   770.0        2.0      209.0            2.0  10/26/18 0:00  1442.0   \n",
       "4   770.0       51.0       52.0            2.0  10/26/18 0:00  1458.0   \n",
       "\n",
       "      MBITEM  MBDSUN  MBDSEL MBRESL MBRFND IMCAT1 IMCAT2 IMCAT3  \\\n",
       "0  1234449.0     1.0  549.99    NaN    NaN      M      A      B   \n",
       "1  1234449.0     1.0  549.99    NaN    NaN      M      A      B   \n",
       "2  1235362.0     1.0  469.99    NaN    NaN      M      A      B   \n",
       "3  1238985.0     1.0  899.99    NaN    NaN      M      A      B   \n",
       "4  1238985.0    -1.0 -899.99    NaN    NaN      M      A      B   \n",
       "\n",
       "                    IMDES1             IMDES2 REGION LCDIST       LCNAME  \\\n",
       "0  HP 15-CS0053CL 15.6\" LT  I5-8250U/12GB/1TB     BA     D3    Sunnyvale   \n",
       "1  HP 15-CS0053CL 15.6\" LT  I5-8250U/12GB/1TB     LA     D3       Tustin   \n",
       "2      DELL I5570 15.6\" LT  I3-8130U/12GB/1TB     NW     D1  South Ogden   \n",
       "3  HP 15-CS0073CL 15.6\" LT  I7-8550U/16GB/1TB     NW     D1  South Ogden   \n",
       "4  HP 15-CS0073CL 15.6\" LT  I7-8550U/16GB/1TB     NW     D1  South Ogden   \n",
       "\n",
       "      LCCITY LCSTA   MSPIPK  ACCTYP EXECFLG  \n",
       "0  SUNNYVALE    CA   539928     1.0       E  \n",
       "1     TUSTIN    CA   437256     2.0       E  \n",
       "2      OGDEN    UT  6142209     1.0       E  \n",
       "3      OGDEN    UT  6139758     1.0     NaN  \n",
       "4      OGDEN    UT  6139758     1.0     NaN  "
      ]
     },
     "execution_count": 152,
     "metadata": {},
     "output_type": "execute_result"
    }
   ],
   "source": [
    "# Observing initial observations of the dataset to gain a basic data understanding\n",
    "dataset22.head(5)"
   ]
  },
  {
   "cell_type": "code",
   "execution_count": 153,
   "metadata": {},
   "outputs": [],
   "source": [
    "#Renaming the columns\n",
    "dataset22.columns = ['WarehouseNo', 'RegisterNo','TransactionNo','FiscalPeriod','DateOfSale', 'TransactionTime', 'ItemNo','DailySalesUnites', 'DailySalesSell','Resell','Refund', 'CatCode1','CatCode2','CatCode3','ItemDes1','ItemDes2', 'RegionCode', 'District','LCNAME','City', 'State','MembershipIPK','AccountType','ExeFlag']"
   ]
  },
  {
   "cell_type": "code",
   "execution_count": 154,
   "metadata": {},
   "outputs": [
    {
     "data": {
      "text/html": [
       "<div>\n",
       "<style scoped>\n",
       "    .dataframe tbody tr th:only-of-type {\n",
       "        vertical-align: middle;\n",
       "    }\n",
       "\n",
       "    .dataframe tbody tr th {\n",
       "        vertical-align: top;\n",
       "    }\n",
       "\n",
       "    .dataframe thead th {\n",
       "        text-align: right;\n",
       "    }\n",
       "</style>\n",
       "<table border=\"1\" class=\"dataframe\">\n",
       "  <thead>\n",
       "    <tr style=\"text-align: right;\">\n",
       "      <th></th>\n",
       "      <th>WarehouseNo</th>\n",
       "      <th>RegisterNo</th>\n",
       "      <th>TransactionNo</th>\n",
       "      <th>FiscalPeriod</th>\n",
       "      <th>DateOfSale</th>\n",
       "      <th>TransactionTime</th>\n",
       "      <th>ItemNo</th>\n",
       "      <th>DailySalesUnites</th>\n",
       "      <th>DailySalesSell</th>\n",
       "      <th>Resell</th>\n",
       "      <th>Refund</th>\n",
       "      <th>CatCode1</th>\n",
       "      <th>CatCode2</th>\n",
       "      <th>CatCode3</th>\n",
       "      <th>ItemDes1</th>\n",
       "      <th>ItemDes2</th>\n",
       "      <th>RegionCode</th>\n",
       "      <th>District</th>\n",
       "      <th>LCNAME</th>\n",
       "      <th>City</th>\n",
       "      <th>State</th>\n",
       "      <th>MembershipIPK</th>\n",
       "      <th>AccountType</th>\n",
       "      <th>ExeFlag</th>\n",
       "    </tr>\n",
       "  </thead>\n",
       "  <tbody>\n",
       "    <tr>\n",
       "      <th>0</th>\n",
       "      <td>423.0</td>\n",
       "      <td>12.0</td>\n",
       "      <td>398.0</td>\n",
       "      <td>2.0</td>\n",
       "      <td>10/26/18 0:00</td>\n",
       "      <td>1721.0</td>\n",
       "      <td>1234449.0</td>\n",
       "      <td>1.0</td>\n",
       "      <td>549.99</td>\n",
       "      <td>NaN</td>\n",
       "      <td>NaN</td>\n",
       "      <td>M</td>\n",
       "      <td>A</td>\n",
       "      <td>B</td>\n",
       "      <td>HP 15-CS0053CL 15.6\" LT</td>\n",
       "      <td>I5-8250U/12GB/1TB</td>\n",
       "      <td>BA</td>\n",
       "      <td>D3</td>\n",
       "      <td>Sunnyvale</td>\n",
       "      <td>SUNNYVALE</td>\n",
       "      <td>CA</td>\n",
       "      <td>539928</td>\n",
       "      <td>1.0</td>\n",
       "      <td>E</td>\n",
       "    </tr>\n",
       "    <tr>\n",
       "      <th>1</th>\n",
       "      <td>1001.0</td>\n",
       "      <td>5.0</td>\n",
       "      <td>257.0</td>\n",
       "      <td>2.0</td>\n",
       "      <td>10/26/18 0:00</td>\n",
       "      <td>1352.0</td>\n",
       "      <td>1234449.0</td>\n",
       "      <td>1.0</td>\n",
       "      <td>549.99</td>\n",
       "      <td>NaN</td>\n",
       "      <td>NaN</td>\n",
       "      <td>M</td>\n",
       "      <td>A</td>\n",
       "      <td>B</td>\n",
       "      <td>HP 15-CS0053CL 15.6\" LT</td>\n",
       "      <td>I5-8250U/12GB/1TB</td>\n",
       "      <td>LA</td>\n",
       "      <td>D3</td>\n",
       "      <td>Tustin</td>\n",
       "      <td>TUSTIN</td>\n",
       "      <td>CA</td>\n",
       "      <td>437256</td>\n",
       "      <td>2.0</td>\n",
       "      <td>E</td>\n",
       "    </tr>\n",
       "    <tr>\n",
       "      <th>2</th>\n",
       "      <td>770.0</td>\n",
       "      <td>2.0</td>\n",
       "      <td>108.0</td>\n",
       "      <td>2.0</td>\n",
       "      <td>10/26/18 0:00</td>\n",
       "      <td>1226.0</td>\n",
       "      <td>1235362.0</td>\n",
       "      <td>1.0</td>\n",
       "      <td>469.99</td>\n",
       "      <td>NaN</td>\n",
       "      <td>NaN</td>\n",
       "      <td>M</td>\n",
       "      <td>A</td>\n",
       "      <td>B</td>\n",
       "      <td>DELL I5570 15.6\" LT</td>\n",
       "      <td>I3-8130U/12GB/1TB</td>\n",
       "      <td>NW</td>\n",
       "      <td>D1</td>\n",
       "      <td>South Ogden</td>\n",
       "      <td>OGDEN</td>\n",
       "      <td>UT</td>\n",
       "      <td>6142209</td>\n",
       "      <td>1.0</td>\n",
       "      <td>E</td>\n",
       "    </tr>\n",
       "    <tr>\n",
       "      <th>3</th>\n",
       "      <td>770.0</td>\n",
       "      <td>2.0</td>\n",
       "      <td>209.0</td>\n",
       "      <td>2.0</td>\n",
       "      <td>10/26/18 0:00</td>\n",
       "      <td>1442.0</td>\n",
       "      <td>1238985.0</td>\n",
       "      <td>1.0</td>\n",
       "      <td>899.99</td>\n",
       "      <td>NaN</td>\n",
       "      <td>NaN</td>\n",
       "      <td>M</td>\n",
       "      <td>A</td>\n",
       "      <td>B</td>\n",
       "      <td>HP 15-CS0073CL 15.6\" LT</td>\n",
       "      <td>I7-8550U/16GB/1TB</td>\n",
       "      <td>NW</td>\n",
       "      <td>D1</td>\n",
       "      <td>South Ogden</td>\n",
       "      <td>OGDEN</td>\n",
       "      <td>UT</td>\n",
       "      <td>6139758</td>\n",
       "      <td>1.0</td>\n",
       "      <td>NaN</td>\n",
       "    </tr>\n",
       "    <tr>\n",
       "      <th>4</th>\n",
       "      <td>770.0</td>\n",
       "      <td>51.0</td>\n",
       "      <td>52.0</td>\n",
       "      <td>2.0</td>\n",
       "      <td>10/26/18 0:00</td>\n",
       "      <td>1458.0</td>\n",
       "      <td>1238985.0</td>\n",
       "      <td>-1.0</td>\n",
       "      <td>-899.99</td>\n",
       "      <td>NaN</td>\n",
       "      <td>NaN</td>\n",
       "      <td>M</td>\n",
       "      <td>A</td>\n",
       "      <td>B</td>\n",
       "      <td>HP 15-CS0073CL 15.6\" LT</td>\n",
       "      <td>I7-8550U/16GB/1TB</td>\n",
       "      <td>NW</td>\n",
       "      <td>D1</td>\n",
       "      <td>South Ogden</td>\n",
       "      <td>OGDEN</td>\n",
       "      <td>UT</td>\n",
       "      <td>6139758</td>\n",
       "      <td>1.0</td>\n",
       "      <td>NaN</td>\n",
       "    </tr>\n",
       "  </tbody>\n",
       "</table>\n",
       "</div>"
      ],
      "text/plain": [
       "   WarehouseNo  RegisterNo  TransactionNo  FiscalPeriod     DateOfSale  \\\n",
       "0        423.0        12.0          398.0           2.0  10/26/18 0:00   \n",
       "1       1001.0         5.0          257.0           2.0  10/26/18 0:00   \n",
       "2        770.0         2.0          108.0           2.0  10/26/18 0:00   \n",
       "3        770.0         2.0          209.0           2.0  10/26/18 0:00   \n",
       "4        770.0        51.0           52.0           2.0  10/26/18 0:00   \n",
       "\n",
       "   TransactionTime     ItemNo  DailySalesUnites  DailySalesSell Resell Refund  \\\n",
       "0           1721.0  1234449.0               1.0          549.99    NaN    NaN   \n",
       "1           1352.0  1234449.0               1.0          549.99    NaN    NaN   \n",
       "2           1226.0  1235362.0               1.0          469.99    NaN    NaN   \n",
       "3           1442.0  1238985.0               1.0          899.99    NaN    NaN   \n",
       "4           1458.0  1238985.0              -1.0         -899.99    NaN    NaN   \n",
       "\n",
       "  CatCode1 CatCode2 CatCode3                 ItemDes1           ItemDes2  \\\n",
       "0        M        A        B  HP 15-CS0053CL 15.6\" LT  I5-8250U/12GB/1TB   \n",
       "1        M        A        B  HP 15-CS0053CL 15.6\" LT  I5-8250U/12GB/1TB   \n",
       "2        M        A        B      DELL I5570 15.6\" LT  I3-8130U/12GB/1TB   \n",
       "3        M        A        B  HP 15-CS0073CL 15.6\" LT  I7-8550U/16GB/1TB   \n",
       "4        M        A        B  HP 15-CS0073CL 15.6\" LT  I7-8550U/16GB/1TB   \n",
       "\n",
       "  RegionCode District       LCNAME       City State  MembershipIPK  \\\n",
       "0         BA       D3    Sunnyvale  SUNNYVALE    CA         539928   \n",
       "1         LA       D3       Tustin     TUSTIN    CA         437256   \n",
       "2         NW       D1  South Ogden      OGDEN    UT        6142209   \n",
       "3         NW       D1  South Ogden      OGDEN    UT        6139758   \n",
       "4         NW       D1  South Ogden      OGDEN    UT        6139758   \n",
       "\n",
       "   AccountType ExeFlag  \n",
       "0          1.0       E  \n",
       "1          2.0       E  \n",
       "2          1.0       E  \n",
       "3          1.0     NaN  \n",
       "4          1.0     NaN  "
      ]
     },
     "execution_count": 154,
     "metadata": {},
     "output_type": "execute_result"
    }
   ],
   "source": [
    "dataset22.head()"
   ]
  },
  {
   "cell_type": "code",
   "execution_count": 155,
   "metadata": {},
   "outputs": [
    {
     "name": "stdout",
     "output_type": "stream",
     "text": [
      "Number of Dimensions: 2 , having 1048575 rows and 24 columns\n"
     ]
    }
   ],
   "source": [
    "# Get shape of the dataset\n",
    "row, col = dataset22.shape\n",
    "print('Number of Dimensions:', dataset.ndim ,', having', row, \"rows and\", col, 'columns' )"
   ]
  },
  {
   "cell_type": "code",
   "execution_count": 10,
   "metadata": {},
   "outputs": [],
   "source": [
    "#Increasing the length of display\n",
    "pd.set_option('display.max_columns', 40)"
   ]
  },
  {
   "cell_type": "code",
   "execution_count": 156,
   "metadata": {},
   "outputs": [
    {
     "data": {
      "text/plain": [
       "WarehouseNo         float64\n",
       "RegisterNo          float64\n",
       "TransactionNo       float64\n",
       "FiscalPeriod        float64\n",
       "DateOfSale           object\n",
       "TransactionTime     float64\n",
       "ItemNo              float64\n",
       "DailySalesUnites    float64\n",
       "DailySalesSell      float64\n",
       "Resell               object\n",
       "Refund               object\n",
       "CatCode1             object\n",
       "CatCode2             object\n",
       "CatCode3             object\n",
       "ItemDes1             object\n",
       "ItemDes2             object\n",
       "RegionCode           object\n",
       "District             object\n",
       "LCNAME               object\n",
       "City                 object\n",
       "State                object\n",
       "MembershipIPK         int64\n",
       "AccountType         float64\n",
       "ExeFlag              object\n",
       "dtype: object"
      ]
     },
     "execution_count": 156,
     "metadata": {},
     "output_type": "execute_result"
    }
   ],
   "source": [
    "#datatypes of the columns of the dataset\n",
    "dataset22.dtypes"
   ]
  },
  {
   "cell_type": "code",
   "execution_count": 157,
   "metadata": {},
   "outputs": [],
   "source": [
    "# Changing the datatype of DateOfSale from object to datetime\n",
    "dataset22['DateOfSale'] = pd.to_datetime(dataset22['DateOfSale'])"
   ]
  },
  {
   "cell_type": "code",
   "execution_count": 158,
   "metadata": {},
   "outputs": [
    {
     "data": {
      "text/plain": [
       "WarehouseNo         213762\n",
       "RegisterNo          213762\n",
       "TransactionNo       213762\n",
       "FiscalPeriod        213762\n",
       "DateOfSale          213762\n",
       "TransactionTime     213762\n",
       "ItemNo              213762\n",
       "DailySalesUnites    213762\n",
       "DailySalesSell      213762\n",
       "Resell              796298\n",
       "Refund              938440\n",
       "CatCode1            213762\n",
       "CatCode2            213762\n",
       "CatCode3            213762\n",
       "ItemDes1            213762\n",
       "ItemDes2            214902\n",
       "RegionCode          213762\n",
       "District            213762\n",
       "LCNAME              213762\n",
       "City                213762\n",
       "State               213762\n",
       "MembershipIPK            0\n",
       "AccountType         215689\n",
       "ExeFlag             430035\n",
       "dtype: int64"
      ]
     },
     "execution_count": 158,
     "metadata": {},
     "output_type": "execute_result"
    }
   ],
   "source": [
    "# Checking for null values\n",
    "null_counts = dataset22.isnull().sum()\n",
    "null_counts"
   ]
  },
  {
   "cell_type": "code",
   "execution_count": 159,
   "metadata": {},
   "outputs": [
    {
     "data": {
      "text/plain": [
       "array([nan, 'Y', 'N'], dtype=object)"
      ]
     },
     "execution_count": 159,
     "metadata": {},
     "output_type": "execute_result"
    }
   ],
   "source": [
    "#Exploring unique \n",
    "dataset22[\"Resell\"].unique()"
   ]
  },
  {
   "cell_type": "code",
   "execution_count": 160,
   "metadata": {},
   "outputs": [
    {
     "data": {
      "text/plain": [
       "array([nan, 'Y'], dtype=object)"
      ]
     },
     "execution_count": 160,
     "metadata": {},
     "output_type": "execute_result"
    }
   ],
   "source": [
    "dataset22[\"Refund\"].unique()"
   ]
  },
  {
   "cell_type": "code",
   "execution_count": 161,
   "metadata": {},
   "outputs": [],
   "source": [
    "# Replacing null values by N\n",
    "dataset22[\"Resell\"].fillna(\"N\", inplace = True)\n",
    "dataset22[\"Refund\"].fillna(\"N\", inplace = True)\n"
   ]
  },
  {
   "cell_type": "code",
   "execution_count": 162,
   "metadata": {},
   "outputs": [
    {
     "data": {
      "text/plain": [
       "array(['N', 'Y'], dtype=object)"
      ]
     },
     "execution_count": 162,
     "metadata": {},
     "output_type": "execute_result"
    }
   ],
   "source": [
    "dataset22[\"Resell\"].unique()"
   ]
  },
  {
   "cell_type": "code",
   "execution_count": 163,
   "metadata": {},
   "outputs": [
    {
     "data": {
      "text/plain": [
       "array(['N', 'Y'], dtype=object)"
      ]
     },
     "execution_count": 163,
     "metadata": {},
     "output_type": "execute_result"
    }
   ],
   "source": [
    "dataset22[\"Refund\"].unique()"
   ]
  },
  {
   "cell_type": "code",
   "execution_count": 164,
   "metadata": {},
   "outputs": [],
   "source": [
    "# Replacing null values by zero\n",
    "dataset22 = dataset22.fillna(0)"
   ]
  },
  {
   "cell_type": "code",
   "execution_count": 165,
   "metadata": {},
   "outputs": [],
   "source": [
    "# Deleting all the transactions having TransactionNo = zero\n",
    "dataset22.drop(dataset22[dataset22['TransactionNo'] == 0].index , inplace=True)"
   ]
  },
  {
   "cell_type": "code",
   "execution_count": 166,
   "metadata": {},
   "outputs": [
    {
     "data": {
      "text/plain": [
       "WarehouseNo         0\n",
       "RegisterNo          0\n",
       "TransactionNo       0\n",
       "FiscalPeriod        0\n",
       "DateOfSale          0\n",
       "TransactionTime     0\n",
       "ItemNo              0\n",
       "DailySalesUnites    0\n",
       "DailySalesSell      0\n",
       "Resell              0\n",
       "Refund              0\n",
       "CatCode1            0\n",
       "CatCode2            0\n",
       "CatCode3            0\n",
       "ItemDes1            0\n",
       "ItemDes2            0\n",
       "RegionCode          0\n",
       "District            0\n",
       "LCNAME              0\n",
       "City                0\n",
       "State               0\n",
       "MembershipIPK       0\n",
       "AccountType         0\n",
       "ExeFlag             0\n",
       "dtype: int64"
      ]
     },
     "execution_count": 166,
     "metadata": {},
     "output_type": "execute_result"
    }
   ],
   "source": [
    "# Checking for null values\n",
    "null_counts1 = dataset22.isnull().sum()\n",
    "null_counts1"
   ]
  },
  {
   "cell_type": "code",
   "execution_count": 167,
   "metadata": {},
   "outputs": [],
   "source": [
    "# Changing the datatypes\n",
    "\n",
    "dataset22['WarehouseNo'] = dataset22['WarehouseNo'].astype('int')\n",
    "dataset22['RegisterNo'] = dataset22['RegisterNo'].astype('int')\n",
    "dataset22['TransactionNo'] = dataset22['TransactionNo'].astype('int')\n",
    "dataset22['FiscalPeriod'] = dataset22['FiscalPeriod'].astype('int')\n",
    "dataset22['TransactionTime'] = dataset22['TransactionTime'].astype('int')\n",
    "dataset22['AccountType'] = dataset22['AccountType'].astype('int')\n",
    "dataset22['ItemNo'] = dataset22['ItemNo'].astype('int')"
   ]
  },
  {
   "cell_type": "code",
   "execution_count": 168,
   "metadata": {},
   "outputs": [
    {
     "name": "stdout",
     "output_type": "stream",
     "text": [
      "Number of Dimensions: 2 , having 834811 rows and 24 columns\n"
     ]
    }
   ],
   "source": [
    "# Get shape of the dataset\n",
    "row, col = dataset22.shape\n",
    "#print('Number of Dimensions:', dataset.ndim ,', having', row, \"rows and\", col, 'columns' )\n",
    "print('Number of Dimensions:', dataset22.ndim ,', having', row, \"rows and\", col, 'columns' )"
   ]
  },
  {
   "cell_type": "code",
   "execution_count": 169,
   "metadata": {},
   "outputs": [
    {
     "data": {
      "text/html": [
       "<div>\n",
       "<style scoped>\n",
       "    .dataframe tbody tr th:only-of-type {\n",
       "        vertical-align: middle;\n",
       "    }\n",
       "\n",
       "    .dataframe tbody tr th {\n",
       "        vertical-align: top;\n",
       "    }\n",
       "\n",
       "    .dataframe thead th {\n",
       "        text-align: right;\n",
       "    }\n",
       "</style>\n",
       "<table border=\"1\" class=\"dataframe\">\n",
       "  <thead>\n",
       "    <tr style=\"text-align: right;\">\n",
       "      <th></th>\n",
       "      <th>WarehouseNo</th>\n",
       "      <th>RegisterNo</th>\n",
       "      <th>TransactionNo</th>\n",
       "      <th>FiscalPeriod</th>\n",
       "      <th>DateOfSale</th>\n",
       "      <th>TransactionTime</th>\n",
       "      <th>ItemNo</th>\n",
       "      <th>DailySalesUnites</th>\n",
       "      <th>DailySalesSell</th>\n",
       "      <th>Resell</th>\n",
       "      <th>Refund</th>\n",
       "      <th>CatCode1</th>\n",
       "      <th>CatCode2</th>\n",
       "      <th>CatCode3</th>\n",
       "      <th>ItemDes1</th>\n",
       "      <th>ItemDes2</th>\n",
       "      <th>RegionCode</th>\n",
       "      <th>District</th>\n",
       "      <th>LCNAME</th>\n",
       "      <th>City</th>\n",
       "      <th>State</th>\n",
       "      <th>MembershipIPK</th>\n",
       "      <th>AccountType</th>\n",
       "      <th>ExeFlag</th>\n",
       "    </tr>\n",
       "  </thead>\n",
       "  <tbody>\n",
       "    <tr>\n",
       "      <th>0</th>\n",
       "      <td>423</td>\n",
       "      <td>12</td>\n",
       "      <td>398</td>\n",
       "      <td>2</td>\n",
       "      <td>2018-10-26 00:00:00</td>\n",
       "      <td>1721</td>\n",
       "      <td>1234449</td>\n",
       "      <td>1.0</td>\n",
       "      <td>549.99</td>\n",
       "      <td>N</td>\n",
       "      <td>N</td>\n",
       "      <td>M</td>\n",
       "      <td>A</td>\n",
       "      <td>B</td>\n",
       "      <td>HP 15-CS0053CL 15.6\" LT</td>\n",
       "      <td>I5-8250U/12GB/1TB</td>\n",
       "      <td>BA</td>\n",
       "      <td>D3</td>\n",
       "      <td>Sunnyvale</td>\n",
       "      <td>SUNNYVALE</td>\n",
       "      <td>CA</td>\n",
       "      <td>539928</td>\n",
       "      <td>1</td>\n",
       "      <td>E</td>\n",
       "    </tr>\n",
       "    <tr>\n",
       "      <th>1</th>\n",
       "      <td>1001</td>\n",
       "      <td>5</td>\n",
       "      <td>257</td>\n",
       "      <td>2</td>\n",
       "      <td>2018-10-26 00:00:00</td>\n",
       "      <td>1352</td>\n",
       "      <td>1234449</td>\n",
       "      <td>1.0</td>\n",
       "      <td>549.99</td>\n",
       "      <td>N</td>\n",
       "      <td>N</td>\n",
       "      <td>M</td>\n",
       "      <td>A</td>\n",
       "      <td>B</td>\n",
       "      <td>HP 15-CS0053CL 15.6\" LT</td>\n",
       "      <td>I5-8250U/12GB/1TB</td>\n",
       "      <td>LA</td>\n",
       "      <td>D3</td>\n",
       "      <td>Tustin</td>\n",
       "      <td>TUSTIN</td>\n",
       "      <td>CA</td>\n",
       "      <td>437256</td>\n",
       "      <td>2</td>\n",
       "      <td>E</td>\n",
       "    </tr>\n",
       "    <tr>\n",
       "      <th>2</th>\n",
       "      <td>770</td>\n",
       "      <td>2</td>\n",
       "      <td>108</td>\n",
       "      <td>2</td>\n",
       "      <td>2018-10-26 00:00:00</td>\n",
       "      <td>1226</td>\n",
       "      <td>1235362</td>\n",
       "      <td>1.0</td>\n",
       "      <td>469.99</td>\n",
       "      <td>N</td>\n",
       "      <td>N</td>\n",
       "      <td>M</td>\n",
       "      <td>A</td>\n",
       "      <td>B</td>\n",
       "      <td>DELL I5570 15.6\" LT</td>\n",
       "      <td>I3-8130U/12GB/1TB</td>\n",
       "      <td>NW</td>\n",
       "      <td>D1</td>\n",
       "      <td>South Ogden</td>\n",
       "      <td>OGDEN</td>\n",
       "      <td>UT</td>\n",
       "      <td>6142209</td>\n",
       "      <td>1</td>\n",
       "      <td>E</td>\n",
       "    </tr>\n",
       "    <tr>\n",
       "      <th>3</th>\n",
       "      <td>770</td>\n",
       "      <td>2</td>\n",
       "      <td>209</td>\n",
       "      <td>2</td>\n",
       "      <td>2018-10-26 00:00:00</td>\n",
       "      <td>1442</td>\n",
       "      <td>1238985</td>\n",
       "      <td>1.0</td>\n",
       "      <td>899.99</td>\n",
       "      <td>N</td>\n",
       "      <td>N</td>\n",
       "      <td>M</td>\n",
       "      <td>A</td>\n",
       "      <td>B</td>\n",
       "      <td>HP 15-CS0073CL 15.6\" LT</td>\n",
       "      <td>I7-8550U/16GB/1TB</td>\n",
       "      <td>NW</td>\n",
       "      <td>D1</td>\n",
       "      <td>South Ogden</td>\n",
       "      <td>OGDEN</td>\n",
       "      <td>UT</td>\n",
       "      <td>6139758</td>\n",
       "      <td>1</td>\n",
       "      <td>0</td>\n",
       "    </tr>\n",
       "    <tr>\n",
       "      <th>4</th>\n",
       "      <td>770</td>\n",
       "      <td>51</td>\n",
       "      <td>52</td>\n",
       "      <td>2</td>\n",
       "      <td>2018-10-26 00:00:00</td>\n",
       "      <td>1458</td>\n",
       "      <td>1238985</td>\n",
       "      <td>-1.0</td>\n",
       "      <td>-899.99</td>\n",
       "      <td>N</td>\n",
       "      <td>N</td>\n",
       "      <td>M</td>\n",
       "      <td>A</td>\n",
       "      <td>B</td>\n",
       "      <td>HP 15-CS0073CL 15.6\" LT</td>\n",
       "      <td>I7-8550U/16GB/1TB</td>\n",
       "      <td>NW</td>\n",
       "      <td>D1</td>\n",
       "      <td>South Ogden</td>\n",
       "      <td>OGDEN</td>\n",
       "      <td>UT</td>\n",
       "      <td>6139758</td>\n",
       "      <td>1</td>\n",
       "      <td>0</td>\n",
       "    </tr>\n",
       "  </tbody>\n",
       "</table>\n",
       "</div>"
      ],
      "text/plain": [
       "   WarehouseNo  RegisterNo  TransactionNo  FiscalPeriod           DateOfSale  \\\n",
       "0          423          12            398             2  2018-10-26 00:00:00   \n",
       "1         1001           5            257             2  2018-10-26 00:00:00   \n",
       "2          770           2            108             2  2018-10-26 00:00:00   \n",
       "3          770           2            209             2  2018-10-26 00:00:00   \n",
       "4          770          51             52             2  2018-10-26 00:00:00   \n",
       "\n",
       "   TransactionTime   ItemNo  DailySalesUnites  DailySalesSell Resell Refund  \\\n",
       "0             1721  1234449               1.0          549.99      N      N   \n",
       "1             1352  1234449               1.0          549.99      N      N   \n",
       "2             1226  1235362               1.0          469.99      N      N   \n",
       "3             1442  1238985               1.0          899.99      N      N   \n",
       "4             1458  1238985              -1.0         -899.99      N      N   \n",
       "\n",
       "  CatCode1 CatCode2 CatCode3                 ItemDes1           ItemDes2  \\\n",
       "0        M        A        B  HP 15-CS0053CL 15.6\" LT  I5-8250U/12GB/1TB   \n",
       "1        M        A        B  HP 15-CS0053CL 15.6\" LT  I5-8250U/12GB/1TB   \n",
       "2        M        A        B      DELL I5570 15.6\" LT  I3-8130U/12GB/1TB   \n",
       "3        M        A        B  HP 15-CS0073CL 15.6\" LT  I7-8550U/16GB/1TB   \n",
       "4        M        A        B  HP 15-CS0073CL 15.6\" LT  I7-8550U/16GB/1TB   \n",
       "\n",
       "  RegionCode District       LCNAME       City State  MembershipIPK  \\\n",
       "0         BA       D3    Sunnyvale  SUNNYVALE    CA         539928   \n",
       "1         LA       D3       Tustin     TUSTIN    CA         437256   \n",
       "2         NW       D1  South Ogden      OGDEN    UT        6142209   \n",
       "3         NW       D1  South Ogden      OGDEN    UT        6139758   \n",
       "4         NW       D1  South Ogden      OGDEN    UT        6139758   \n",
       "\n",
       "   AccountType ExeFlag  \n",
       "0            1       E  \n",
       "1            2       E  \n",
       "2            1       E  \n",
       "3            1       0  \n",
       "4            1       0  "
      ]
     },
     "execution_count": 169,
     "metadata": {},
     "output_type": "execute_result"
    }
   ],
   "source": [
    "dataset22.head(5)"
   ]
  },
  {
   "cell_type": "code",
   "execution_count": 117,
   "metadata": {},
   "outputs": [],
   "source": [
    "# Exporting clean dataset for further analysis in Tableau\n",
    "dataset22.to_csv('Tableau_dataset_new.csv', sep='\\t', encoding='utf-8')"
   ]
  },
  {
   "cell_type": "code",
   "execution_count": 145,
   "metadata": {},
   "outputs": [],
   "source": [
    "dataset22.to_dense().to_csv(\"submission.csv\", index = False, sep=',', encoding='utf-8')"
   ]
  },
  {
   "cell_type": "code",
   "execution_count": 170,
   "metadata": {},
   "outputs": [
    {
     "name": "stdout",
     "output_type": "stream",
     "text": [
      "2018-09-03 00:00:00\n",
      "2019-03-17 00:00:00\n"
     ]
    }
   ],
   "source": [
    "# Understanding dataset timeframe\n",
    "print (min(dataset22['DateOfSale']))\n",
    "print (max(dataset22['DateOfSale']))"
   ]
  },
  {
   "cell_type": "code",
   "execution_count": 171,
   "metadata": {},
   "outputs": [
    {
     "name": "stdout",
     "output_type": "stream",
     "text": [
      "559258\n"
     ]
    }
   ],
   "source": [
    "#Get count of members\n",
    "\n",
    "import sys\n",
    "memberCount=len(set(dataset22[\"MembershipIPK\"].tolist()))\n",
    "print(memberCount)"
   ]
  },
  {
   "cell_type": "code",
   "execution_count": 172,
   "metadata": {},
   "outputs": [
    {
     "data": {
      "text/plain": [
       "533"
      ]
     },
     "execution_count": 172,
     "metadata": {},
     "output_type": "execute_result"
    }
   ],
   "source": [
    "#len(dataset[\"WarehouseNo\"].unique())\n",
    "len(dataset22[\"WarehouseNo\"].unique())"
   ]
  },
  {
   "cell_type": "code",
   "execution_count": 173,
   "metadata": {},
   "outputs": [
    {
     "data": {
      "text/html": [
       "<div>\n",
       "<style scoped>\n",
       "    .dataframe tbody tr th:only-of-type {\n",
       "        vertical-align: middle;\n",
       "    }\n",
       "\n",
       "    .dataframe tbody tr th {\n",
       "        vertical-align: top;\n",
       "    }\n",
       "\n",
       "    .dataframe thead th {\n",
       "        text-align: right;\n",
       "    }\n",
       "</style>\n",
       "<table border=\"1\" class=\"dataframe\">\n",
       "  <thead>\n",
       "    <tr style=\"text-align: right;\">\n",
       "      <th></th>\n",
       "      <th>WarehouseNo</th>\n",
       "      <th>RegisterNo</th>\n",
       "      <th>TransactionNo</th>\n",
       "      <th>FiscalPeriod</th>\n",
       "      <th>DateOfSale</th>\n",
       "      <th>TransactionTime</th>\n",
       "      <th>ItemNo</th>\n",
       "      <th>DailySalesUnites</th>\n",
       "      <th>DailySalesSell</th>\n",
       "      <th>Resell</th>\n",
       "      <th>Refund</th>\n",
       "      <th>CatCode1</th>\n",
       "      <th>CatCode2</th>\n",
       "      <th>CatCode3</th>\n",
       "      <th>ItemDes1</th>\n",
       "      <th>ItemDes2</th>\n",
       "      <th>RegionCode</th>\n",
       "      <th>District</th>\n",
       "      <th>LCNAME</th>\n",
       "      <th>City</th>\n",
       "      <th>State</th>\n",
       "      <th>MembershipIPK</th>\n",
       "      <th>AccountType</th>\n",
       "      <th>ExeFlag</th>\n",
       "    </tr>\n",
       "  </thead>\n",
       "  <tbody>\n",
       "    <tr>\n",
       "      <th>0</th>\n",
       "      <td>423</td>\n",
       "      <td>12</td>\n",
       "      <td>398</td>\n",
       "      <td>2</td>\n",
       "      <td>2018-10-26 00:00:00</td>\n",
       "      <td>1721</td>\n",
       "      <td>1234449</td>\n",
       "      <td>1.0</td>\n",
       "      <td>549.99</td>\n",
       "      <td>N</td>\n",
       "      <td>N</td>\n",
       "      <td>M</td>\n",
       "      <td>A</td>\n",
       "      <td>B</td>\n",
       "      <td>HP 15-CS0053CL 15.6\" LT</td>\n",
       "      <td>I5-8250U/12GB/1TB</td>\n",
       "      <td>BA</td>\n",
       "      <td>D3</td>\n",
       "      <td>Sunnyvale</td>\n",
       "      <td>SUNNYVALE</td>\n",
       "      <td>CA</td>\n",
       "      <td>539928</td>\n",
       "      <td>1</td>\n",
       "      <td>E</td>\n",
       "    </tr>\n",
       "    <tr>\n",
       "      <th>1</th>\n",
       "      <td>1001</td>\n",
       "      <td>5</td>\n",
       "      <td>257</td>\n",
       "      <td>2</td>\n",
       "      <td>2018-10-26 00:00:00</td>\n",
       "      <td>1352</td>\n",
       "      <td>1234449</td>\n",
       "      <td>1.0</td>\n",
       "      <td>549.99</td>\n",
       "      <td>N</td>\n",
       "      <td>N</td>\n",
       "      <td>M</td>\n",
       "      <td>A</td>\n",
       "      <td>B</td>\n",
       "      <td>HP 15-CS0053CL 15.6\" LT</td>\n",
       "      <td>I5-8250U/12GB/1TB</td>\n",
       "      <td>LA</td>\n",
       "      <td>D3</td>\n",
       "      <td>Tustin</td>\n",
       "      <td>TUSTIN</td>\n",
       "      <td>CA</td>\n",
       "      <td>437256</td>\n",
       "      <td>2</td>\n",
       "      <td>E</td>\n",
       "    </tr>\n",
       "    <tr>\n",
       "      <th>2</th>\n",
       "      <td>770</td>\n",
       "      <td>2</td>\n",
       "      <td>108</td>\n",
       "      <td>2</td>\n",
       "      <td>2018-10-26 00:00:00</td>\n",
       "      <td>1226</td>\n",
       "      <td>1235362</td>\n",
       "      <td>1.0</td>\n",
       "      <td>469.99</td>\n",
       "      <td>N</td>\n",
       "      <td>N</td>\n",
       "      <td>M</td>\n",
       "      <td>A</td>\n",
       "      <td>B</td>\n",
       "      <td>DELL I5570 15.6\" LT</td>\n",
       "      <td>I3-8130U/12GB/1TB</td>\n",
       "      <td>NW</td>\n",
       "      <td>D1</td>\n",
       "      <td>South Ogden</td>\n",
       "      <td>OGDEN</td>\n",
       "      <td>UT</td>\n",
       "      <td>6142209</td>\n",
       "      <td>1</td>\n",
       "      <td>E</td>\n",
       "    </tr>\n",
       "    <tr>\n",
       "      <th>3</th>\n",
       "      <td>770</td>\n",
       "      <td>2</td>\n",
       "      <td>209</td>\n",
       "      <td>2</td>\n",
       "      <td>2018-10-26 00:00:00</td>\n",
       "      <td>1442</td>\n",
       "      <td>1238985</td>\n",
       "      <td>1.0</td>\n",
       "      <td>899.99</td>\n",
       "      <td>N</td>\n",
       "      <td>N</td>\n",
       "      <td>M</td>\n",
       "      <td>A</td>\n",
       "      <td>B</td>\n",
       "      <td>HP 15-CS0073CL 15.6\" LT</td>\n",
       "      <td>I7-8550U/16GB/1TB</td>\n",
       "      <td>NW</td>\n",
       "      <td>D1</td>\n",
       "      <td>South Ogden</td>\n",
       "      <td>OGDEN</td>\n",
       "      <td>UT</td>\n",
       "      <td>6139758</td>\n",
       "      <td>1</td>\n",
       "      <td>0</td>\n",
       "    </tr>\n",
       "    <tr>\n",
       "      <th>4</th>\n",
       "      <td>770</td>\n",
       "      <td>51</td>\n",
       "      <td>52</td>\n",
       "      <td>2</td>\n",
       "      <td>2018-10-26 00:00:00</td>\n",
       "      <td>1458</td>\n",
       "      <td>1238985</td>\n",
       "      <td>-1.0</td>\n",
       "      <td>-899.99</td>\n",
       "      <td>N</td>\n",
       "      <td>N</td>\n",
       "      <td>M</td>\n",
       "      <td>A</td>\n",
       "      <td>B</td>\n",
       "      <td>HP 15-CS0073CL 15.6\" LT</td>\n",
       "      <td>I7-8550U/16GB/1TB</td>\n",
       "      <td>NW</td>\n",
       "      <td>D1</td>\n",
       "      <td>South Ogden</td>\n",
       "      <td>OGDEN</td>\n",
       "      <td>UT</td>\n",
       "      <td>6139758</td>\n",
       "      <td>1</td>\n",
       "      <td>0</td>\n",
       "    </tr>\n",
       "  </tbody>\n",
       "</table>\n",
       "</div>"
      ],
      "text/plain": [
       "   WarehouseNo  RegisterNo  TransactionNo  FiscalPeriod           DateOfSale  \\\n",
       "0          423          12            398             2  2018-10-26 00:00:00   \n",
       "1         1001           5            257             2  2018-10-26 00:00:00   \n",
       "2          770           2            108             2  2018-10-26 00:00:00   \n",
       "3          770           2            209             2  2018-10-26 00:00:00   \n",
       "4          770          51             52             2  2018-10-26 00:00:00   \n",
       "\n",
       "   TransactionTime   ItemNo  DailySalesUnites  DailySalesSell Resell Refund  \\\n",
       "0             1721  1234449               1.0          549.99      N      N   \n",
       "1             1352  1234449               1.0          549.99      N      N   \n",
       "2             1226  1235362               1.0          469.99      N      N   \n",
       "3             1442  1238985               1.0          899.99      N      N   \n",
       "4             1458  1238985              -1.0         -899.99      N      N   \n",
       "\n",
       "  CatCode1 CatCode2 CatCode3                 ItemDes1           ItemDes2  \\\n",
       "0        M        A        B  HP 15-CS0053CL 15.6\" LT  I5-8250U/12GB/1TB   \n",
       "1        M        A        B  HP 15-CS0053CL 15.6\" LT  I5-8250U/12GB/1TB   \n",
       "2        M        A        B      DELL I5570 15.6\" LT  I3-8130U/12GB/1TB   \n",
       "3        M        A        B  HP 15-CS0073CL 15.6\" LT  I7-8550U/16GB/1TB   \n",
       "4        M        A        B  HP 15-CS0073CL 15.6\" LT  I7-8550U/16GB/1TB   \n",
       "\n",
       "  RegionCode District       LCNAME       City State  MembershipIPK  \\\n",
       "0         BA       D3    Sunnyvale  SUNNYVALE    CA         539928   \n",
       "1         LA       D3       Tustin     TUSTIN    CA         437256   \n",
       "2         NW       D1  South Ogden      OGDEN    UT        6142209   \n",
       "3         NW       D1  South Ogden      OGDEN    UT        6139758   \n",
       "4         NW       D1  South Ogden      OGDEN    UT        6139758   \n",
       "\n",
       "   AccountType ExeFlag  \n",
       "0            1       E  \n",
       "1            2       E  \n",
       "2            1       E  \n",
       "3            1       0  \n",
       "4            1       0  "
      ]
     },
     "execution_count": 173,
     "metadata": {},
     "output_type": "execute_result"
    }
   ],
   "source": [
    "dataset22.head()"
   ]
  },
  {
   "cell_type": "code",
   "execution_count": 174,
   "metadata": {},
   "outputs": [
    {
     "data": {
      "text/plain": [
       "CatCode1\n",
       "M    834811\n",
       "Name: CatCode1, dtype: int64"
      ]
     },
     "execution_count": 174,
     "metadata": {},
     "output_type": "execute_result"
    }
   ],
   "source": [
    "# Which department the data belongs to?\n",
    "dataset22[['CatCode1']].groupby(['CatCode1'])['CatCode1'].count()"
   ]
  },
  {
   "cell_type": "code",
   "execution_count": 125,
   "metadata": {},
   "outputs": [
    {
     "data": {
      "text/plain": [
       "1"
      ]
     },
     "execution_count": 125,
     "metadata": {},
     "output_type": "execute_result"
    }
   ],
   "source": [
    "#Number of unique Cat 1 codes\n",
    "len(dataset22[\"CatCode1\"].unique())\n"
   ]
  },
  {
   "cell_type": "code",
   "execution_count": 178,
   "metadata": {},
   "outputs": [
    {
     "data": {
      "text/plain": [
       "531"
      ]
     },
     "execution_count": 178,
     "metadata": {},
     "output_type": "execute_result"
    }
   ],
   "source": [
    "#Number of unique Item Desc 1\n",
    "len(dataset22[\"ItemDes1\"].unique())"
   ]
  },
  {
   "cell_type": "code",
   "execution_count": 179,
   "metadata": {},
   "outputs": [
    {
     "data": {
      "text/plain": [
       "520"
      ]
     },
     "execution_count": 179,
     "metadata": {},
     "output_type": "execute_result"
    }
   ],
   "source": [
    "#Number of unique Item Desc 2\n",
    "len(dataset22[\"ItemDes2\"].unique())"
   ]
  },
  {
   "cell_type": "code",
   "execution_count": 175,
   "metadata": {},
   "outputs": [
    {
     "data": {
      "text/plain": [
       "1"
      ]
     },
     "execution_count": 175,
     "metadata": {},
     "output_type": "execute_result"
    }
   ],
   "source": [
    "#Number of unique Cat 2 codes\n",
    "len(dataset22[\"CatCode2\"].unique())"
   ]
  },
  {
   "cell_type": "code",
   "execution_count": 177,
   "metadata": {},
   "outputs": [
    {
     "data": {
      "text/plain": [
       "1"
      ]
     },
     "execution_count": 177,
     "metadata": {},
     "output_type": "execute_result"
    }
   ],
   "source": [
    "#Number of unique Cat 3 codes\n",
    "len(dataset22[\"CatCode3\"].unique())"
   ]
  },
  {
   "cell_type": "code",
   "execution_count": 180,
   "metadata": {},
   "outputs": [
    {
     "data": {
      "text/plain": [
       "ItemDes1\n",
       "ACER A5 LAPTOP                  5\n",
       "ACER AS4730-4972 LT 14.1\"       4\n",
       "ACER AS4743Z-4861 14\" LT        2\n",
       "ACER AS5742-7645 15.6\"LT        2\n",
       "ACER AS5750-6589 15.6\" LT       2\n",
       "ACER AS6935-6194 LT 16\"         2\n",
       "ACER ASP F5 LT I7-7500U        21\n",
       "ACER ASPIRE 5 I7-8550U        112\n",
       "ACER ASPIRE 5 LT I7-8550U    1458\n",
       "ACER ASPIRE E1 15.6\" LT         2\n",
       "ACER ASPIRE ONE 11.6\" LED       2\n",
       "ACER ASPIRE R14 I7-6500U        2\n",
       "ACER ASPIRE R5 I7-7500U         4\n",
       "ACER ASPIRE V15 I7-6700HQ       1\n",
       "ACER ASPIRE V17 I7-6700HQ       1\n",
       "ACER NB AS5602WLMI 15.4\"W       4\n",
       "ACER NB AS56104648 15.4\"W      89\n",
       "ACER NITRO 5 15.6\" LT          68\n",
       "ACER NITRO 5 I7-7700HQ          3\n",
       "ACER NITRO 5 LT I5-7300HQ       1\n",
       "ACER PRED G9 LT I7-7700HQ      32\n",
       "ACER PRED LT I7-7700HQ         30\n",
       "ACER PRED LT I7-7820HK          1\n",
       "ACER PREDATOR LT I7-8750H     525\n",
       "ACER R13 2IN1 I7-5500U/         1\n",
       "ACER R13 I5-6200U/8/           10\n",
       "ACER R14 2-N-1 LAPTOP           3\n",
       "ACER R5 LAPTOP                  5\n",
       "ACER SPIN 1 CEL 3350            8\n",
       "ACER SPIN 3 15.6\" TCH LT      309\n",
       "                             ... \n",
       "SONY NOTEBOOK CASE              2\n",
       "SONY PCG-GRT150 P4 2.8GHZ       2\n",
       "SONY PCG-TR3A P-M 1.00GHZ       6\n",
       "SONY PCG-Z1VA PENTIUM M         8\n",
       "SONY PCGGRS150 C 1.7GHZ         6\n",
       "SONY PCGGRV550/C P4 DT         32\n",
       "SONY PCGK14 P4 2.8GHZ W/        4\n",
       "SONY PCGNV190 P4 1.7GHZ         2\n",
       "TOSH C55-C5123 I5-6200U/        1\n",
       "TOSH CB35 3215U/4/16/+32        1\n",
       "TOSH S75 I7-4700MQ/LT           4\n",
       "TOSHIBA 1105 C1.13GHZ           4\n",
       "TOSHIBA 1905-S301 W/ 15\"        2\n",
       "TOSHIBA A25-S2792 P4 3.06       8\n",
       "TOSHIBA A35-S1592 C.2.70        2\n",
       "TOSHIBA A665-S5184X 15.6\"      26\n",
       "TOSHIBA C55T 15.6\" TCH LT       1\n",
       "TOSHIBA CELERON  2.80GHZ       20\n",
       "TOSHIBA L55 15.6\" LT            2\n",
       "TOSHIBA L55W 15.6\" TCH LT       5\n",
       "TOSHIBA M105-S3051 14.1\"W       4\n",
       "TOSHIBA M45-S3553 15.4\"W        2\n",
       "TOSHIBA NB P205-S6277 17\"     266\n",
       "TOSHIBA P25-S487 P4             4\n",
       "TOSHIBA P25-S5093 P4 3.0        8\n",
       "TOSHIBA P35-S6112 17\"W         12\n",
       "TOSHIBA S55 15.6\" TCH LT       13\n",
       "TOSHIBA S55T 15.6\" TCH LT       3\n",
       "TOSHIBA SATELLITE 1135          3\n",
       "TOSHIBA U205-S5021 12.1\"W     246\n",
       "Name: ItemDes1, Length: 531, dtype: int64"
      ]
     },
     "execution_count": 180,
     "metadata": {},
     "output_type": "execute_result"
    }
   ],
   "source": [
    "# Which category the data belongs to?\n",
    "dataset22[['ItemDes1']].groupby(['ItemDes1'])['ItemDes1'].count()"
   ]
  },
  {
   "cell_type": "code",
   "execution_count": 181,
   "metadata": {},
   "outputs": [
    {
     "data": {
      "text/plain": [
       "MembershipIPK\n",
       "7310       1927\n",
       "816181     1740\n",
       "5329740     335\n",
       "3087670     311\n",
       "4579940     156\n",
       "6072717     153\n",
       "1590474     151\n",
       "5714487     151\n",
       "5954613     125\n",
       "1758766     118\n",
       "Name: MembershipIPK, dtype: int64"
      ]
     },
     "execution_count": 181,
     "metadata": {},
     "output_type": "execute_result"
    }
   ],
   "source": [
    "# Who are the top 10 members who has maximum transactions?\n",
    "\n",
    "top_10= dataset22[['MembershipIPK']].groupby(['MembershipIPK'])['MembershipIPK'].count().nlargest(10)\n",
    "top_10"
   ]
  },
  {
   "cell_type": "code",
   "execution_count": 182,
   "metadata": {},
   "outputs": [
    {
     "data": {
      "text/plain": [
       "[(1234449, 90751),\n",
       " (1230231, 84456),\n",
       " (1235362, 80741),\n",
       " (1272966, 71566),\n",
       " (1228011, 30267),\n",
       " (1228070, 29262),\n",
       " (1275609, 28842),\n",
       " (1275727, 28108),\n",
       " (1273709, 23428),\n",
       " (1222491, 20427)]"
      ]
     },
     "execution_count": 182,
     "metadata": {},
     "output_type": "execute_result"
    }
   ],
   "source": [
    "#What is (are) the most frequently bought items?\n",
    "\n",
    "from collections import Counter\n",
    "products = dataset22['ItemNo']\n",
    "\n",
    "# Give top 10 items with their count\n",
    "Top_Products = Counter(products)\n",
    "Top_Products.most_common(10)"
   ]
  },
  {
   "cell_type": "code",
   "execution_count": 183,
   "metadata": {},
   "outputs": [
    {
     "data": {
      "text/plain": [
       "643"
      ]
     },
     "execution_count": 183,
     "metadata": {},
     "output_type": "execute_result"
    }
   ],
   "source": [
    "#(dataset['ItemNo'].unique())\n",
    "len(dataset22['ItemNo'].unique())"
   ]
  },
  {
   "cell_type": "code",
   "execution_count": 184,
   "metadata": {},
   "outputs": [],
   "source": [
    "#DSU=(dataset['DailySalesUnites'].unique()).tolist()\n",
    "#DSU"
   ]
  },
  {
   "cell_type": "code",
   "execution_count": 185,
   "metadata": {},
   "outputs": [],
   "source": [
    "# Analyzing items returned\n",
    "#retn = dataset[dataset['DailySalesUnites']<0]\n",
    "retn = dataset22[dataset22['DailySalesUnites']<0]"
   ]
  },
  {
   "cell_type": "code",
   "execution_count": 190,
   "metadata": {},
   "outputs": [
    {
     "data": {
      "text/plain": [
       "DailySalesUnites\n",
       "-1.0     137429\n",
       "-2.0       1273\n",
       "-5.0        239\n",
       "-3.0        207\n",
       "-4.0        123\n",
       "-10.0        13\n",
       "-6.0         13\n",
       "-20.0         6\n",
       "-8.0          6\n",
       "-11.0         3\n",
       "Name: DailySalesUnites, dtype: int64"
      ]
     },
     "execution_count": 190,
     "metadata": {},
     "output_type": "execute_result"
    }
   ],
   "source": [
    "# Which items are frequently returned\n",
    "retn[['DailySalesUnites']].groupby(['DailySalesUnites'])['DailySalesUnites'].count().nlargest(10)"
   ]
  },
  {
   "cell_type": "code",
   "execution_count": 191,
   "metadata": {},
   "outputs": [
    {
     "data": {
      "text/plain": [
       "ItemNo\n",
       "1234449    15245\n",
       "1230231    12825\n",
       "1235362    11746\n",
       "1272966    10353\n",
       "1228070     5536\n",
       "1228011     5130\n",
       "1275609     5114\n",
       "1222491     4557\n",
       "1226932     4347\n",
       "1275727     3867\n",
       "Name: ItemNo, dtype: int64"
      ]
     },
     "execution_count": 191,
     "metadata": {},
     "output_type": "execute_result"
    }
   ],
   "source": [
    "retn[['ItemNo']].groupby(['ItemNo'])['ItemNo'].count().nlargest(10)"
   ]
  },
  {
   "cell_type": "code",
   "execution_count": 143,
   "metadata": {},
   "outputs": [
    {
     "data": {
      "text/plain": [
       "['BA', 'LA', 'NW', 'NE', 'SD', 'MW', 'TE', 'SE', 'BD', 'EC']"
      ]
     },
     "execution_count": 143,
     "metadata": {},
     "output_type": "execute_result"
    }
   ],
   "source": [
    "dataset22['RegionCode'].unique().tolist()"
   ]
  },
  {
   "cell_type": "code",
   "execution_count": 188,
   "metadata": {},
   "outputs": [
    {
     "name": "stdout",
     "output_type": "stream",
     "text": [
      "Region Code: BA\n",
      "1234449    9559\n",
      "1230231    9056\n",
      "1235362    8351\n",
      "1272966    8345\n",
      "1228011    3684\n",
      "Name: ItemNo, dtype: int64\n",
      "\n",
      "Region Code: LA\n",
      "1234449    10412\n",
      "1230231    10094\n",
      "1235362     9370\n",
      "1272966     8762\n",
      "1228011     3757\n",
      "Name: ItemNo, dtype: int64\n",
      "\n",
      "Region Code: NW\n",
      "1234449    14806\n",
      "1235362    12356\n",
      "1230231    12273\n",
      "1272966     8963\n",
      "1228011     5768\n",
      "Name: ItemNo, dtype: int64\n",
      "\n",
      "Region Code: NE\n",
      "1234449    13461\n",
      "1230231    11368\n",
      "1235362    10703\n",
      "1272966     9397\n",
      "1275727     4291\n",
      "Name: ItemNo, dtype: int64\n",
      "\n",
      "Region Code: SD\n",
      "1234449    9606\n",
      "1235362    8564\n",
      "1230231    8406\n",
      "1272966    6703\n",
      "1228011    3452\n",
      "Name: ItemNo, dtype: int64\n",
      "\n",
      "Region Code: MW\n",
      "1234449    12091\n",
      "1230231     9877\n",
      "1235362     9084\n",
      "1272966     7246\n",
      "1228011     4100\n",
      "Name: ItemNo, dtype: int64\n",
      "\n",
      "Region Code: TE\n",
      "1234449    5404\n",
      "1230231    4849\n",
      "1235362    4151\n",
      "1272966    3746\n",
      "1275727    1855\n",
      "Name: ItemNo, dtype: int64\n",
      "\n",
      "Region Code: SE\n",
      "1234449    10170\n",
      "1230231     9506\n",
      "1235362     8751\n",
      "1272966     6870\n",
      "1228070     3341\n",
      "Name: ItemNo, dtype: int64\n",
      "\n",
      "Region Code: BD\n",
      "1272966    18\n",
      "1228070     9\n",
      "1234449     9\n",
      "1235362     8\n",
      "1278582     4\n",
      "Name: ItemNo, dtype: int64\n",
      "\n",
      "Region Code: EC\n",
      "1278582    13266\n",
      "1272966    11516\n",
      "1231375    10295\n",
      "1235362     9403\n",
      "1230231     9024\n",
      "Name: ItemNo, dtype: int64\n",
      "\n"
     ]
    }
   ],
   "source": [
    "# Which are the top 5 item having maximum number of sales in different regions?\n",
    "\n",
    "RegionCode = dataset22['RegionCode'].unique().tolist()\n",
    "for i in range(len(RegionCode)):\n",
    "    print('Region Code:', RegionCode[i])   \n",
    "    Title_cnt = dataset22['ItemNo'][dataset22['RegionCode'] == RegionCode[i]].value_counts().head()\n",
    "    print(Title_cnt)\n",
    "    print('')"
   ]
  },
  {
   "cell_type": "code",
   "execution_count": null,
   "metadata": {},
   "outputs": [],
   "source": []
  }
 ],
 "metadata": {
  "kernelspec": {
   "display_name": "Python 3",
   "language": "python",
   "name": "python3"
  },
  "language_info": {
   "codemirror_mode": {
    "name": "ipython",
    "version": 3
   },
   "file_extension": ".py",
   "mimetype": "text/x-python",
   "name": "python",
   "nbconvert_exporter": "python",
   "pygments_lexer": "ipython3",
   "version": "3.7.3"
  }
 },
 "nbformat": 4,
 "nbformat_minor": 2
}
